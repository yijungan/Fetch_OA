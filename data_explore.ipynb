{
 "cells": [
  {
   "cell_type": "code",
   "execution_count": 5,
   "metadata": {},
   "outputs": [],
   "source": [
    "import json\n",
    "import pandas as pd"
   ]
  },
  {
   "cell_type": "code",
   "execution_count": 3,
   "metadata": {},
   "outputs": [],
   "source": [
    "receipts = []\n",
    "with open('receipts.json') as f:\n",
    "    for line in f:\n",
    "        receipts.append(json.loads(line))"
   ]
  },
  {
   "cell_type": "code",
   "execution_count": 6,
   "metadata": {},
   "outputs": [],
   "source": [
    "receipts=pd.DataFrame(receipts)"
   ]
  },
  {
   "cell_type": "code",
   "execution_count": 12,
   "metadata": {},
   "outputs": [
    {
     "data": {
      "text/html": [
       "<div>\n",
       "<style scoped>\n",
       "    .dataframe tbody tr th:only-of-type {\n",
       "        vertical-align: middle;\n",
       "    }\n",
       "\n",
       "    .dataframe tbody tr th {\n",
       "        vertical-align: top;\n",
       "    }\n",
       "\n",
       "    .dataframe thead th {\n",
       "        text-align: right;\n",
       "    }\n",
       "</style>\n",
       "<table border=\"1\" class=\"dataframe\">\n",
       "  <thead>\n",
       "    <tr style=\"text-align: right;\">\n",
       "      <th></th>\n",
       "      <th>_id</th>\n",
       "      <th>bonusPointsEarned</th>\n",
       "      <th>bonusPointsEarnedReason</th>\n",
       "      <th>createDate</th>\n",
       "      <th>dateScanned</th>\n",
       "      <th>finishedDate</th>\n",
       "      <th>modifyDate</th>\n",
       "      <th>pointsAwardedDate</th>\n",
       "      <th>pointsEarned</th>\n",
       "      <th>purchaseDate</th>\n",
       "      <th>purchasedItemCount</th>\n",
       "      <th>rewardsReceiptItemList</th>\n",
       "      <th>rewardsReceiptStatus</th>\n",
       "      <th>totalSpent</th>\n",
       "      <th>userId</th>\n",
       "    </tr>\n",
       "  </thead>\n",
       "  <tbody>\n",
       "    <tr>\n",
       "      <th>0</th>\n",
       "      <td>{'$oid': '5ff1e1eb0a720f0523000575'}</td>\n",
       "      <td>500.0</td>\n",
       "      <td>Receipt number 2 completed, bonus point schedu...</td>\n",
       "      <td>{'$date': 1609687531000}</td>\n",
       "      <td>{'$date': 1609687531000}</td>\n",
       "      <td>{'$date': 1609687531000}</td>\n",
       "      <td>{'$date': 1609687536000}</td>\n",
       "      <td>{'$date': 1609687531000}</td>\n",
       "      <td>500.0</td>\n",
       "      <td>{'$date': 1609632000000}</td>\n",
       "      <td>5.0</td>\n",
       "      <td>[{'barcode': '4011', 'description': 'ITEM NOT ...</td>\n",
       "      <td>FINISHED</td>\n",
       "      <td>26.00</td>\n",
       "      <td>5ff1e1eacfcf6c399c274ae6</td>\n",
       "    </tr>\n",
       "    <tr>\n",
       "      <th>1</th>\n",
       "      <td>{'$oid': '5ff1e1bb0a720f052300056b'}</td>\n",
       "      <td>150.0</td>\n",
       "      <td>Receipt number 5 completed, bonus point schedu...</td>\n",
       "      <td>{'$date': 1609687483000}</td>\n",
       "      <td>{'$date': 1609687483000}</td>\n",
       "      <td>{'$date': 1609687483000}</td>\n",
       "      <td>{'$date': 1609687488000}</td>\n",
       "      <td>{'$date': 1609687483000}</td>\n",
       "      <td>150.0</td>\n",
       "      <td>{'$date': 1609601083000}</td>\n",
       "      <td>2.0</td>\n",
       "      <td>[{'barcode': '4011', 'description': 'ITEM NOT ...</td>\n",
       "      <td>FINISHED</td>\n",
       "      <td>11.00</td>\n",
       "      <td>5ff1e194b6a9d73a3a9f1052</td>\n",
       "    </tr>\n",
       "    <tr>\n",
       "      <th>2</th>\n",
       "      <td>{'$oid': '5ff1e1f10a720f052300057a'}</td>\n",
       "      <td>5.0</td>\n",
       "      <td>All-receipts receipt bonus</td>\n",
       "      <td>{'$date': 1609687537000}</td>\n",
       "      <td>{'$date': 1609687537000}</td>\n",
       "      <td>NaN</td>\n",
       "      <td>{'$date': 1609687542000}</td>\n",
       "      <td>NaN</td>\n",
       "      <td>5</td>\n",
       "      <td>{'$date': 1609632000000}</td>\n",
       "      <td>1.0</td>\n",
       "      <td>[{'needsFetchReview': False, 'partnerItemId': ...</td>\n",
       "      <td>REJECTED</td>\n",
       "      <td>10.00</td>\n",
       "      <td>5ff1e1f1cfcf6c399c274b0b</td>\n",
       "    </tr>\n",
       "    <tr>\n",
       "      <th>3</th>\n",
       "      <td>{'$oid': '5ff1e1ee0a7214ada100056f'}</td>\n",
       "      <td>5.0</td>\n",
       "      <td>All-receipts receipt bonus</td>\n",
       "      <td>{'$date': 1609687534000}</td>\n",
       "      <td>{'$date': 1609687534000}</td>\n",
       "      <td>{'$date': 1609687534000}</td>\n",
       "      <td>{'$date': 1609687539000}</td>\n",
       "      <td>{'$date': 1609687534000}</td>\n",
       "      <td>5.0</td>\n",
       "      <td>{'$date': 1609632000000}</td>\n",
       "      <td>4.0</td>\n",
       "      <td>[{'barcode': '4011', 'description': 'ITEM NOT ...</td>\n",
       "      <td>FINISHED</td>\n",
       "      <td>28.00</td>\n",
       "      <td>5ff1e1eacfcf6c399c274ae6</td>\n",
       "    </tr>\n",
       "    <tr>\n",
       "      <th>4</th>\n",
       "      <td>{'$oid': '5ff1e1d20a7214ada1000561'}</td>\n",
       "      <td>5.0</td>\n",
       "      <td>All-receipts receipt bonus</td>\n",
       "      <td>{'$date': 1609687506000}</td>\n",
       "      <td>{'$date': 1609687506000}</td>\n",
       "      <td>{'$date': 1609687511000}</td>\n",
       "      <td>{'$date': 1609687511000}</td>\n",
       "      <td>{'$date': 1609687506000}</td>\n",
       "      <td>5.0</td>\n",
       "      <td>{'$date': 1609601106000}</td>\n",
       "      <td>2.0</td>\n",
       "      <td>[{'barcode': '4011', 'description': 'ITEM NOT ...</td>\n",
       "      <td>FINISHED</td>\n",
       "      <td>1.00</td>\n",
       "      <td>5ff1e194b6a9d73a3a9f1052</td>\n",
       "    </tr>\n",
       "    <tr>\n",
       "      <th>5</th>\n",
       "      <td>{'$oid': '5ff1e1e40a7214ada1000566'}</td>\n",
       "      <td>750.0</td>\n",
       "      <td>Receipt number 1 completed, bonus point schedu...</td>\n",
       "      <td>{'$date': 1609687524000}</td>\n",
       "      <td>{'$date': 1609687524000}</td>\n",
       "      <td>{'$date': 1609687525000}</td>\n",
       "      <td>{'$date': 1609687530000}</td>\n",
       "      <td>{'$date': 1609687525000}</td>\n",
       "      <td>750.0</td>\n",
       "      <td>{'$date': 1609601124000}</td>\n",
       "      <td>1.0</td>\n",
       "      <td>[{'barcode': '4011', 'description': 'ITEM NOT ...</td>\n",
       "      <td>FINISHED</td>\n",
       "      <td>3.25</td>\n",
       "      <td>5ff1e1e4cfcf6c399c274ac3</td>\n",
       "    </tr>\n",
       "    <tr>\n",
       "      <th>6</th>\n",
       "      <td>{'$oid': '5ff1e1cd0a720f052300056f'}</td>\n",
       "      <td>5.0</td>\n",
       "      <td>All-receipts receipt bonus</td>\n",
       "      <td>{'$date': 1609687501000}</td>\n",
       "      <td>{'$date': 1609687501000}</td>\n",
       "      <td>{'$date': 1609687502000}</td>\n",
       "      <td>{'$date': 1609687502000}</td>\n",
       "      <td>{'$date': 1609687502000}</td>\n",
       "      <td>5.0</td>\n",
       "      <td>{'$date': 1609687501000}</td>\n",
       "      <td>1.0</td>\n",
       "      <td>[{'brandCode': 'MISSION', 'competitorRewardsGr...</td>\n",
       "      <td>FINISHED</td>\n",
       "      <td>2.23</td>\n",
       "      <td>5ff1e194b6a9d73a3a9f1052</td>\n",
       "    </tr>\n",
       "    <tr>\n",
       "      <th>7</th>\n",
       "      <td>{'$oid': '5ff1e1a40a720f0523000569'}</td>\n",
       "      <td>500.0</td>\n",
       "      <td>Receipt number 2 completed, bonus point schedu...</td>\n",
       "      <td>{'$date': 1609687460000}</td>\n",
       "      <td>{'$date': 1609687460000}</td>\n",
       "      <td>{'$date': 1609687461000}</td>\n",
       "      <td>{'$date': 1609687461000}</td>\n",
       "      <td>{'$date': 1609687461000}</td>\n",
       "      <td>500.0</td>\n",
       "      <td>{'$date': 1609027200000}</td>\n",
       "      <td>1.0</td>\n",
       "      <td>[{'barcode': '046000832517', 'brandCode': 'BRA...</td>\n",
       "      <td>FINISHED</td>\n",
       "      <td>10.00</td>\n",
       "      <td>5ff1e194b6a9d73a3a9f1052</td>\n",
       "    </tr>\n",
       "  </tbody>\n",
       "</table>\n",
       "</div>"
      ],
      "text/plain": [
       "                                    _id  bonusPointsEarned  \\\n",
       "0  {'$oid': '5ff1e1eb0a720f0523000575'}              500.0   \n",
       "1  {'$oid': '5ff1e1bb0a720f052300056b'}              150.0   \n",
       "2  {'$oid': '5ff1e1f10a720f052300057a'}                5.0   \n",
       "3  {'$oid': '5ff1e1ee0a7214ada100056f'}                5.0   \n",
       "4  {'$oid': '5ff1e1d20a7214ada1000561'}                5.0   \n",
       "5  {'$oid': '5ff1e1e40a7214ada1000566'}              750.0   \n",
       "6  {'$oid': '5ff1e1cd0a720f052300056f'}                5.0   \n",
       "7  {'$oid': '5ff1e1a40a720f0523000569'}              500.0   \n",
       "\n",
       "                             bonusPointsEarnedReason  \\\n",
       "0  Receipt number 2 completed, bonus point schedu...   \n",
       "1  Receipt number 5 completed, bonus point schedu...   \n",
       "2                         All-receipts receipt bonus   \n",
       "3                         All-receipts receipt bonus   \n",
       "4                         All-receipts receipt bonus   \n",
       "5  Receipt number 1 completed, bonus point schedu...   \n",
       "6                         All-receipts receipt bonus   \n",
       "7  Receipt number 2 completed, bonus point schedu...   \n",
       "\n",
       "                 createDate               dateScanned  \\\n",
       "0  {'$date': 1609687531000}  {'$date': 1609687531000}   \n",
       "1  {'$date': 1609687483000}  {'$date': 1609687483000}   \n",
       "2  {'$date': 1609687537000}  {'$date': 1609687537000}   \n",
       "3  {'$date': 1609687534000}  {'$date': 1609687534000}   \n",
       "4  {'$date': 1609687506000}  {'$date': 1609687506000}   \n",
       "5  {'$date': 1609687524000}  {'$date': 1609687524000}   \n",
       "6  {'$date': 1609687501000}  {'$date': 1609687501000}   \n",
       "7  {'$date': 1609687460000}  {'$date': 1609687460000}   \n",
       "\n",
       "               finishedDate                modifyDate  \\\n",
       "0  {'$date': 1609687531000}  {'$date': 1609687536000}   \n",
       "1  {'$date': 1609687483000}  {'$date': 1609687488000}   \n",
       "2                       NaN  {'$date': 1609687542000}   \n",
       "3  {'$date': 1609687534000}  {'$date': 1609687539000}   \n",
       "4  {'$date': 1609687511000}  {'$date': 1609687511000}   \n",
       "5  {'$date': 1609687525000}  {'$date': 1609687530000}   \n",
       "6  {'$date': 1609687502000}  {'$date': 1609687502000}   \n",
       "7  {'$date': 1609687461000}  {'$date': 1609687461000}   \n",
       "\n",
       "          pointsAwardedDate pointsEarned              purchaseDate  \\\n",
       "0  {'$date': 1609687531000}        500.0  {'$date': 1609632000000}   \n",
       "1  {'$date': 1609687483000}        150.0  {'$date': 1609601083000}   \n",
       "2                       NaN            5  {'$date': 1609632000000}   \n",
       "3  {'$date': 1609687534000}          5.0  {'$date': 1609632000000}   \n",
       "4  {'$date': 1609687506000}          5.0  {'$date': 1609601106000}   \n",
       "5  {'$date': 1609687525000}        750.0  {'$date': 1609601124000}   \n",
       "6  {'$date': 1609687502000}          5.0  {'$date': 1609687501000}   \n",
       "7  {'$date': 1609687461000}        500.0  {'$date': 1609027200000}   \n",
       "\n",
       "   purchasedItemCount                             rewardsReceiptItemList  \\\n",
       "0                 5.0  [{'barcode': '4011', 'description': 'ITEM NOT ...   \n",
       "1                 2.0  [{'barcode': '4011', 'description': 'ITEM NOT ...   \n",
       "2                 1.0  [{'needsFetchReview': False, 'partnerItemId': ...   \n",
       "3                 4.0  [{'barcode': '4011', 'description': 'ITEM NOT ...   \n",
       "4                 2.0  [{'barcode': '4011', 'description': 'ITEM NOT ...   \n",
       "5                 1.0  [{'barcode': '4011', 'description': 'ITEM NOT ...   \n",
       "6                 1.0  [{'brandCode': 'MISSION', 'competitorRewardsGr...   \n",
       "7                 1.0  [{'barcode': '046000832517', 'brandCode': 'BRA...   \n",
       "\n",
       "  rewardsReceiptStatus totalSpent                    userId  \n",
       "0             FINISHED      26.00  5ff1e1eacfcf6c399c274ae6  \n",
       "1             FINISHED      11.00  5ff1e194b6a9d73a3a9f1052  \n",
       "2             REJECTED      10.00  5ff1e1f1cfcf6c399c274b0b  \n",
       "3             FINISHED      28.00  5ff1e1eacfcf6c399c274ae6  \n",
       "4             FINISHED       1.00  5ff1e194b6a9d73a3a9f1052  \n",
       "5             FINISHED       3.25  5ff1e1e4cfcf6c399c274ac3  \n",
       "6             FINISHED       2.23  5ff1e194b6a9d73a3a9f1052  \n",
       "7             FINISHED      10.00  5ff1e194b6a9d73a3a9f1052  "
      ]
     },
     "execution_count": 12,
     "metadata": {},
     "output_type": "execute_result"
    }
   ],
   "source": [
    "receipts.head(8)"
   ]
  },
  {
   "cell_type": "code",
   "execution_count": 11,
   "metadata": {},
   "outputs": [
    {
     "data": {
      "text/plain": [
       "FINISHED     518\n",
       "SUBMITTED    434\n",
       "REJECTED      71\n",
       "PENDING       50\n",
       "FLAGGED       46\n",
       "Name: rewardsReceiptStatus, dtype: int64"
      ]
     },
     "execution_count": 11,
     "metadata": {},
     "output_type": "execute_result"
    }
   ],
   "source": [
    "receipts.rewardsReceiptStatus.value_counts()"
   ]
  },
  {
   "cell_type": "markdown",
   "metadata": {},
   "source": [
    "__inconsistent naming in the class as it is FINISHED in the data, however, it's ACCEPTED in the question__"
   ]
  },
  {
   "cell_type": "code",
   "execution_count": 13,
   "metadata": {},
   "outputs": [],
   "source": [
    "receipts_accept = receipts[receipts.rewardsReceiptStatus == 'FINISHED']"
   ]
  },
  {
   "cell_type": "code",
   "execution_count": 31,
   "metadata": {},
   "outputs": [
    {
     "data": {
      "text/plain": [
       "<AxesSubplot:>"
      ]
     },
     "execution_count": 31,
     "metadata": {},
     "output_type": "execute_result"
    },
    {
     "data": {
      "image/png": "[encoded data removed]",
      "text/plain": [
       "<Figure size 640x480 with 1 Axes>"
      ]
     },
     "metadata": {},
     "output_type": "display_data"
    }
   ],
   "source": [
    "receipts_accept.bonusPointsEarned.hist()"
   ]
  },
  {
   "cell_type": "code",
   "execution_count": 44,
   "metadata": {},
   "outputs": [
    {
     "data": {
      "text/plain": [
       "(518, 15)"
      ]
     },
     "execution_count": 44,
     "metadata": {},
     "output_type": "execute_result"
    }
   ],
   "source": [
    "receipts_accept.shape"
   ]
  },
  {
   "cell_type": "code",
   "execution_count": 67,
   "metadata": {},
   "outputs": [
    {
     "data": {
      "text/plain": [
       "[{'barcode': '4011',\n",
       "  'description': 'ITEM NOT FOUND',\n",
       "  'finalPrice': '1',\n",
       "  'itemPrice': '1',\n",
       "  'partnerItemId': '1',\n",
       "  'quantityPurchased': 1},\n",
       " {'barcode': '028400642255',\n",
       "  'description': 'DORITOS TORTILLA CHIP SPICY SWEET CHILI REDUCED FAT BAG 1 OZ',\n",
       "  'finalPrice': '10.00',\n",
       "  'itemPrice': '10.00',\n",
       "  'needsFetchReview': True,\n",
       "  'needsFetchReviewReason': 'USER_FLAGGED',\n",
       "  'partnerItemId': '2',\n",
       "  'pointsNotAwardedReason': 'Action not allowed for user and CPG',\n",
       "  'pointsPayerId': '5332f5fbe4b03c9a25efd0ba',\n",
       "  'preventTargetGapPoints': True,\n",
       "  'quantityPurchased': 1,\n",
       "  'rewardsGroup': 'DORITOS SPICY SWEET CHILI SINGLE SERVE',\n",
       "  'rewardsProductPartnerId': '5332f5fbe4b03c9a25efd0ba',\n",
       "  'userFlaggedBarcode': '028400642255',\n",
       "  'userFlaggedDescription': 'DORITOS TORTILLA CHIP SPICY SWEET CHILI REDUCED FAT BAG 1 OZ',\n",
       "  'userFlaggedNewItem': True,\n",
       "  'userFlaggedPrice': '10.00',\n",
       "  'userFlaggedQuantity': 1}]"
      ]
     },
     "execution_count": 67,
     "metadata": {},
     "output_type": "execute_result"
    }
   ],
   "source": [
    "receipts_accept.rewardsReceiptItemList.values[1]"
   ]
  },
  {
   "cell_type": "code",
   "execution_count": 53,
   "metadata": {},
   "outputs": [],
   "source": [
    "import numpy as np"
   ]
  },
  {
   "cell_type": "code",
   "execution_count": 89,
   "metadata": {},
   "outputs": [
    {
     "name": "stdout",
     "output_type": "stream",
     "text": [
      "nan\n",
      "nan\n"
     ]
    }
   ],
   "source": [
    "# check on the amount of Barcode 4011 among the rewards\n",
    "total_item = 0\n",
    "single_NotFound = 0\n",
    "NotFound = 0\n",
    "prob_items = []\n",
    "for i in range(len(receipts_accept)):\n",
    "    curr_itemList = receipts_accept.rewardsReceiptItemList.values[i]\n",
    "    try:\n",
    "        \n",
    "        if len(curr_itemList)==1 and curr_itemList[0].get('barcode',-1) == '4011':\n",
    "            single_NotFound+=1\n",
    "            total_item+=1\n",
    "            NotFound+=1\n",
    "    except:\n",
    "        print(curr_itemList)\n",
    "        continue\n",
    "            \n",
    "    for item in curr_itemList:\n",
    "        total_item+=1\n",
    "        if item.get('barcode',-1) == '4011':\n",
    "            NotFound+=1\n",
    "        elif item.get('barcode',-1)==-1:\n",
    "            prob_items.append({'receipt_id':receipts_accept._id.values[i],'itemList':item})\n"
   ]
  },
  {
   "cell_type": "code",
   "execution_count": 95,
   "metadata": {},
   "outputs": [
    {
     "data": {
      "text/plain": [
       "0.5259751037344398"
      ]
     },
     "execution_count": 95,
     "metadata": {},
     "output_type": "execute_result"
    }
   ],
   "source": [
    "len(prob_items)/total_item"
   ]
  },
  {
   "cell_type": "markdown",
   "metadata": {},
   "source": [
    "_certain items do not have barcode, but have brand code instead_"
   ]
  },
  {
   "cell_type": "code",
   "execution_count": 96,
   "metadata": {},
   "outputs": [
    {
     "data": {
      "text/plain": [
       "0.20656370656370657"
      ]
     },
     "execution_count": 96,
     "metadata": {},
     "output_type": "execute_result"
    }
   ],
   "source": [
    "single_NotFound/len(receipts_accept)"
   ]
  },
  {
   "cell_type": "markdown",
   "metadata": {},
   "source": [
    "**upon 20% of all the approved rewards receipt/transaction, have unfound item barcode, may be a good indicator of fraud/churning activities that are targeting for sign up rewards only, as they are singular item transaction with item that has \"Not Found\" barcode**"
   ]
  },
  {
   "cell_type": "code",
   "execution_count": 98,
   "metadata": {},
   "outputs": [
    {
     "data": {
      "text/plain": [
       "0.026224066390041493"
      ]
     },
     "execution_count": 98,
     "metadata": {},
     "output_type": "execute_result"
    }
   ],
   "source": [
    "(NotFound-single_NotFound)/total_item"
   ]
  },
  {
   "cell_type": "markdown",
   "metadata": {},
   "source": [
    "**2.5% of all items have \"Not Found\" bar code, might be due to manual change when checking out**"
   ]
  },
  {
   "cell_type": "markdown",
   "metadata": {},
   "source": []
  }
 ],
 "metadata": {
  "kernelspec": {
   "display_name": "Python 3.7.5 64-bit",
   "language": "python",
   "name": "python3"
  },
  "language_info": {
   "codemirror_mode": {
    "name": "ipython",
    "version": 3
   },
   "file_extension": ".py",
   "mimetype": "text/x-python",
   "name": "python",
   "nbconvert_exporter": "python",
   "pygments_lexer": "ipython3",
   "version": "3.7.5"
  },
  "orig_nbformat": 4,
  "vscode": {
   "interpreter": {
    "hash": "aee8b7b246df8f9039afb4144a1f6fd8d2ca17a180786b69acc140d282b71a49"
   }
  }
 },
 "nbformat": 4,
 "nbformat_minor": 2
}
